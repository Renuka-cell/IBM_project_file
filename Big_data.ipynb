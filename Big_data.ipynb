{
  "nbformat": 4,
  "nbformat_minor": 0,
  "metadata": {
    "colab": {
      "provenance": [],
      "authorship_tag": "ABX9TyOEndcnp6/KCWV8HgxybYxN",
      "include_colab_link": true
    },
    "kernelspec": {
      "name": "python3",
      "display_name": "Python 3"
    },
    "language_info": {
      "name": "python"
    }
  },
  "cells": [
    {
      "cell_type": "markdown",
      "metadata": {
        "id": "view-in-github",
        "colab_type": "text"
      },
      "source": [
        "<a href=\"https://colab.research.google.com/github/Renuka-cell/IBM_project_file/blob/main/Big_data.ipynb\" target=\"_parent\"><img src=\"https://colab.research.google.com/assets/colab-badge.svg\" alt=\"Open In Colab\"/></a>"
      ]
    },
    {
      "cell_type": "code",
      "execution_count": null,
      "metadata": {
        "id": "Ohu4MmRdgEYd"
      },
      "outputs": [],
      "source": [
        "!apt-get install openjdk-8-jdk-headless -qq > /dev/null"
      ]
    },
    {
      "cell_type": "code",
      "source": [
        "#!wget -q http://apache.mirrors.lucidnetworks.net/spark/spark-3.4.1/spark-3.4.1-bin-hadoop3.tgz\n",
        "!wget https://archive.apache.org/dist/spark/spark-3.4.1/spark-3.4.1-bin-hadoop3.tgz"
      ],
      "metadata": {
        "colab": {
          "base_uri": "https://localhost:8080/"
        },
        "id": "qUJVUnMRhSue",
        "outputId": "c78a4c6d-2e5b-42b7-f5f5-9a336843b094"
      },
      "execution_count": 9,
      "outputs": [
        {
          "output_type": "stream",
          "name": "stdout",
          "text": [
            "--2025-08-07 08:37:17--  https://archive.apache.org/dist/spark/spark-3.4.1/spark-3.4.1-bin-hadoop3.tgz\n",
            "Resolving archive.apache.org (archive.apache.org)... 65.108.204.189, 2a01:4f9:1a:a084::2\n",
            "Connecting to archive.apache.org (archive.apache.org)|65.108.204.189|:443... connected.\n",
            "HTTP request sent, awaiting response... 200 OK\n",
            "Length: 388341449 (370M) [application/x-gzip]\n",
            "Saving to: ‘spark-3.4.1-bin-hadoop3.tgz.1’\n",
            "\n",
            "spark-3.4.1-bin-had 100%[===================>] 370.35M   277KB/s    in 25m 11s \n",
            "\n",
            "2025-08-07 09:02:29 (251 KB/s) - ‘spark-3.4.1-bin-hadoop3.tgz.1’ saved [388341449/388341449]\n",
            "\n"
          ]
        }
      ]
    },
    {
      "cell_type": "code",
      "source": [
        "!tar xf spark-3.4.1-bin-hadoop3.tgz"
      ],
      "metadata": {
        "id": "zqHQybNFhc1_"
      },
      "execution_count": 12,
      "outputs": []
    },
    {
      "cell_type": "code",
      "source": [
        "import os\n",
        "os.environ[\"JAVA_HOME\"] = \"/usr/lib/jvm/java-8-openjdk-amd64\"\n",
        "os.environ[\"SPARK_HOME\"] = \"/content/spark-3.4.1-bin-hadoop3\""
      ],
      "metadata": {
        "id": "9VZGiSpEpU1l"
      },
      "execution_count": 13,
      "outputs": []
    },
    {
      "cell_type": "code",
      "source": [
        "!pip install -q findspark"
      ],
      "metadata": {
        "id": "v5JtHx1WyiAk"
      },
      "execution_count": 16,
      "outputs": []
    },
    {
      "cell_type": "code",
      "source": [
        "import findspark\n",
        "findspark.init()\n",
        "\n",
        "from pyspark.sql import SparkSession\n",
        "spark = SparkSession.builder.master(\"local[*]\").getOrCreate()\n",
        "spark"
      ],
      "metadata": {
        "id": "vvy20X_NplUO",
        "colab": {
          "base_uri": "https://localhost:8080/",
          "height": 219
        },
        "outputId": "8778137e-c23f-4b2f-a4b9-bd97b10325e6"
      },
      "execution_count": 17,
      "outputs": [
        {
          "output_type": "execute_result",
          "data": {
            "text/plain": [
              "<pyspark.sql.session.SparkSession at 0x79dfaba9dc50>"
            ],
            "text/html": [
              "\n",
              "            <div>\n",
              "                <p><b>SparkSession - in-memory</b></p>\n",
              "                \n",
              "        <div>\n",
              "            <p><b>SparkContext</b></p>\n",
              "\n",
              "            <p><a href=\"http://10f3ba2f0044:4040\">Spark UI</a></p>\n",
              "\n",
              "            <dl>\n",
              "              <dt>Version</dt>\n",
              "                <dd><code>v3.4.1</code></dd>\n",
              "              <dt>Master</dt>\n",
              "                <dd><code>local[*]</code></dd>\n",
              "              <dt>AppName</dt>\n",
              "                <dd><code>pyspark-shell</code></dd>\n",
              "            </dl>\n",
              "        </div>\n",
              "        \n",
              "            </div>\n",
              "        "
            ]
          },
          "metadata": {},
          "execution_count": 17
        }
      ]
    },
    {
      "cell_type": "code",
      "source": [
        "from google.colab import files\n",
        "upload=files.upload()\n",
        "\n",
        "df=spark.read.csv(\"BigBasket Products.csv\",header=True,inferSchema=True)\n",
        "df.show(5)\n",
        "df.printSchema()"
      ],
      "metadata": {
        "id": "I651FQtmsL4R",
        "colab": {
          "base_uri": "https://localhost:8080/",
          "height": 492
        },
        "outputId": "6ddfcdc3-0677-4d64-a06b-c7826290bb04"
      },
      "execution_count": 19,
      "outputs": [
        {
          "output_type": "display_data",
          "data": {
            "text/plain": [
              "<IPython.core.display.HTML object>"
            ],
            "text/html": [
              "\n",
              "     <input type=\"file\" id=\"files-94111b6a-4d90-40d4-8d6f-3c7786f14653\" name=\"files[]\" multiple disabled\n",
              "        style=\"border:none\" />\n",
              "     <output id=\"result-94111b6a-4d90-40d4-8d6f-3c7786f14653\">\n",
              "      Upload widget is only available when the cell has been executed in the\n",
              "      current browser session. Please rerun this cell to enable.\n",
              "      </output>\n",
              "      <script>// Copyright 2017 Google LLC\n",
              "//\n",
              "// Licensed under the Apache License, Version 2.0 (the \"License\");\n",
              "// you may not use this file except in compliance with the License.\n",
              "// You may obtain a copy of the License at\n",
              "//\n",
              "//      http://www.apache.org/licenses/LICENSE-2.0\n",
              "//\n",
              "// Unless required by applicable law or agreed to in writing, software\n",
              "// distributed under the License is distributed on an \"AS IS\" BASIS,\n",
              "// WITHOUT WARRANTIES OR CONDITIONS OF ANY KIND, either express or implied.\n",
              "// See the License for the specific language governing permissions and\n",
              "// limitations under the License.\n",
              "\n",
              "/**\n",
              " * @fileoverview Helpers for google.colab Python module.\n",
              " */\n",
              "(function(scope) {\n",
              "function span(text, styleAttributes = {}) {\n",
              "  const element = document.createElement('span');\n",
              "  element.textContent = text;\n",
              "  for (const key of Object.keys(styleAttributes)) {\n",
              "    element.style[key] = styleAttributes[key];\n",
              "  }\n",
              "  return element;\n",
              "}\n",
              "\n",
              "// Max number of bytes which will be uploaded at a time.\n",
              "const MAX_PAYLOAD_SIZE = 100 * 1024;\n",
              "\n",
              "function _uploadFiles(inputId, outputId) {\n",
              "  const steps = uploadFilesStep(inputId, outputId);\n",
              "  const outputElement = document.getElementById(outputId);\n",
              "  // Cache steps on the outputElement to make it available for the next call\n",
              "  // to uploadFilesContinue from Python.\n",
              "  outputElement.steps = steps;\n",
              "\n",
              "  return _uploadFilesContinue(outputId);\n",
              "}\n",
              "\n",
              "// This is roughly an async generator (not supported in the browser yet),\n",
              "// where there are multiple asynchronous steps and the Python side is going\n",
              "// to poll for completion of each step.\n",
              "// This uses a Promise to block the python side on completion of each step,\n",
              "// then passes the result of the previous step as the input to the next step.\n",
              "function _uploadFilesContinue(outputId) {\n",
              "  const outputElement = document.getElementById(outputId);\n",
              "  const steps = outputElement.steps;\n",
              "\n",
              "  const next = steps.next(outputElement.lastPromiseValue);\n",
              "  return Promise.resolve(next.value.promise).then((value) => {\n",
              "    // Cache the last promise value to make it available to the next\n",
              "    // step of the generator.\n",
              "    outputElement.lastPromiseValue = value;\n",
              "    return next.value.response;\n",
              "  });\n",
              "}\n",
              "\n",
              "/**\n",
              " * Generator function which is called between each async step of the upload\n",
              " * process.\n",
              " * @param {string} inputId Element ID of the input file picker element.\n",
              " * @param {string} outputId Element ID of the output display.\n",
              " * @return {!Iterable<!Object>} Iterable of next steps.\n",
              " */\n",
              "function* uploadFilesStep(inputId, outputId) {\n",
              "  const inputElement = document.getElementById(inputId);\n",
              "  inputElement.disabled = false;\n",
              "\n",
              "  const outputElement = document.getElementById(outputId);\n",
              "  outputElement.innerHTML = '';\n",
              "\n",
              "  const pickedPromise = new Promise((resolve) => {\n",
              "    inputElement.addEventListener('change', (e) => {\n",
              "      resolve(e.target.files);\n",
              "    });\n",
              "  });\n",
              "\n",
              "  const cancel = document.createElement('button');\n",
              "  inputElement.parentElement.appendChild(cancel);\n",
              "  cancel.textContent = 'Cancel upload';\n",
              "  const cancelPromise = new Promise((resolve) => {\n",
              "    cancel.onclick = () => {\n",
              "      resolve(null);\n",
              "    };\n",
              "  });\n",
              "\n",
              "  // Wait for the user to pick the files.\n",
              "  const files = yield {\n",
              "    promise: Promise.race([pickedPromise, cancelPromise]),\n",
              "    response: {\n",
              "      action: 'starting',\n",
              "    }\n",
              "  };\n",
              "\n",
              "  cancel.remove();\n",
              "\n",
              "  // Disable the input element since further picks are not allowed.\n",
              "  inputElement.disabled = true;\n",
              "\n",
              "  if (!files) {\n",
              "    return {\n",
              "      response: {\n",
              "        action: 'complete',\n",
              "      }\n",
              "    };\n",
              "  }\n",
              "\n",
              "  for (const file of files) {\n",
              "    const li = document.createElement('li');\n",
              "    li.append(span(file.name, {fontWeight: 'bold'}));\n",
              "    li.append(span(\n",
              "        `(${file.type || 'n/a'}) - ${file.size} bytes, ` +\n",
              "        `last modified: ${\n",
              "            file.lastModifiedDate ? file.lastModifiedDate.toLocaleDateString() :\n",
              "                                    'n/a'} - `));\n",
              "    const percent = span('0% done');\n",
              "    li.appendChild(percent);\n",
              "\n",
              "    outputElement.appendChild(li);\n",
              "\n",
              "    const fileDataPromise = new Promise((resolve) => {\n",
              "      const reader = new FileReader();\n",
              "      reader.onload = (e) => {\n",
              "        resolve(e.target.result);\n",
              "      };\n",
              "      reader.readAsArrayBuffer(file);\n",
              "    });\n",
              "    // Wait for the data to be ready.\n",
              "    let fileData = yield {\n",
              "      promise: fileDataPromise,\n",
              "      response: {\n",
              "        action: 'continue',\n",
              "      }\n",
              "    };\n",
              "\n",
              "    // Use a chunked sending to avoid message size limits. See b/62115660.\n",
              "    let position = 0;\n",
              "    do {\n",
              "      const length = Math.min(fileData.byteLength - position, MAX_PAYLOAD_SIZE);\n",
              "      const chunk = new Uint8Array(fileData, position, length);\n",
              "      position += length;\n",
              "\n",
              "      const base64 = btoa(String.fromCharCode.apply(null, chunk));\n",
              "      yield {\n",
              "        response: {\n",
              "          action: 'append',\n",
              "          file: file.name,\n",
              "          data: base64,\n",
              "        },\n",
              "      };\n",
              "\n",
              "      let percentDone = fileData.byteLength === 0 ?\n",
              "          100 :\n",
              "          Math.round((position / fileData.byteLength) * 100);\n",
              "      percent.textContent = `${percentDone}% done`;\n",
              "\n",
              "    } while (position < fileData.byteLength);\n",
              "  }\n",
              "\n",
              "  // All done.\n",
              "  yield {\n",
              "    response: {\n",
              "      action: 'complete',\n",
              "    }\n",
              "  };\n",
              "}\n",
              "\n",
              "scope.google = scope.google || {};\n",
              "scope.google.colab = scope.google.colab || {};\n",
              "scope.google.colab._files = {\n",
              "  _uploadFiles,\n",
              "  _uploadFilesContinue,\n",
              "};\n",
              "})(self);\n",
              "</script> "
            ]
          },
          "metadata": {}
        },
        {
          "output_type": "stream",
          "name": "stdout",
          "text": [
            "Saving BigBasket Products.csv to BigBasket Products (1).csv\n",
            "+--------------------+--------------------+--------------------+--------------------+-----------------+----------+------------+--------------------+------+--------------------+\n",
            "|               index|             product|            category|        sub_category|            brand|sale_price|market_price|                type|rating|         description|\n",
            "+--------------------+--------------------+--------------------+--------------------+-----------------+----------+------------+--------------------+------+--------------------+\n",
            "|                   1|Garlic Oil - Vege...|    Beauty & Hygiene|           Hair Care|Sri Sri Ayurveda |       220|         220|    Hair Oil & Serum|   4.1|This Product cont...|\n",
            "|                   2|Water Bottle - Or...|Kitchen, Garden &...|Storage & Accesso...|       Mastercook|       180|         180|Water & Fridge Bo...|   2.3|Each product is m...|\n",
            "|                   3|Brass Angle Deep ...|Cleaning & Household|         Pooja Needs|              Trm|       119|         250|     Lamp & Lamp Oil|   3.4|A perfect gift fo...|\n",
            "|                   4|Cereal Flip Lid C...|Cleaning & Household|Bins & Bathroom Ware|           Nakoda|       149|         176|Laundry, Storage ...|   3.7|Multipurpose cont...|\n",
            "|The Nakoda contai...| this container w...| cleaning and mai...|                null|             null|      null|        null|                null|  null|                null|\n",
            "+--------------------+--------------------+--------------------+--------------------+-----------------+----------+------------+--------------------+------+--------------------+\n",
            "only showing top 5 rows\n",
            "\n",
            "root\n",
            " |-- index: string (nullable = true)\n",
            " |-- product: string (nullable = true)\n",
            " |-- category: string (nullable = true)\n",
            " |-- sub_category: string (nullable = true)\n",
            " |-- brand: string (nullable = true)\n",
            " |-- sale_price: string (nullable = true)\n",
            " |-- market_price: string (nullable = true)\n",
            " |-- type: string (nullable = true)\n",
            " |-- rating: string (nullable = true)\n",
            " |-- description: string (nullable = true)\n",
            "\n"
          ]
        }
      ]
    },
    {
      "cell_type": "code",
      "source": [
        "from pyspark.sql.functions import col\n",
        "\n",
        "df_cleaned= df.dropna()\n",
        "df_cleaned.select([col(c).isNull().alias(c) for c in df_cleaned.columns]).show()"
      ],
      "metadata": {
        "id": "6ojuSa2KtCEx",
        "colab": {
          "base_uri": "https://localhost:8080/"
        },
        "outputId": "e371d274-fc4b-420d-ad52-4532cdf19cdb"
      },
      "execution_count": 20,
      "outputs": [
        {
          "output_type": "stream",
          "name": "stdout",
          "text": [
            "+-----+-------+--------+------------+-----+----------+------------+-----+------+-----------+\n",
            "|index|product|category|sub_category|brand|sale_price|market_price| type|rating|description|\n",
            "+-----+-------+--------+------------+-----+----------+------------+-----+------+-----------+\n",
            "|false|  false|   false|       false|false|     false|       false|false| false|      false|\n",
            "|false|  false|   false|       false|false|     false|       false|false| false|      false|\n",
            "|false|  false|   false|       false|false|     false|       false|false| false|      false|\n",
            "|false|  false|   false|       false|false|     false|       false|false| false|      false|\n",
            "|false|  false|   false|       false|false|     false|       false|false| false|      false|\n",
            "|false|  false|   false|       false|false|     false|       false|false| false|      false|\n",
            "|false|  false|   false|       false|false|     false|       false|false| false|      false|\n",
            "|false|  false|   false|       false|false|     false|       false|false| false|      false|\n",
            "|false|  false|   false|       false|false|     false|       false|false| false|      false|\n",
            "|false|  false|   false|       false|false|     false|       false|false| false|      false|\n",
            "|false|  false|   false|       false|false|     false|       false|false| false|      false|\n",
            "|false|  false|   false|       false|false|     false|       false|false| false|      false|\n",
            "|false|  false|   false|       false|false|     false|       false|false| false|      false|\n",
            "|false|  false|   false|       false|false|     false|       false|false| false|      false|\n",
            "|false|  false|   false|       false|false|     false|       false|false| false|      false|\n",
            "|false|  false|   false|       false|false|     false|       false|false| false|      false|\n",
            "|false|  false|   false|       false|false|     false|       false|false| false|      false|\n",
            "|false|  false|   false|       false|false|     false|       false|false| false|      false|\n",
            "|false|  false|   false|       false|false|     false|       false|false| false|      false|\n",
            "|false|  false|   false|       false|false|     false|       false|false| false|      false|\n",
            "+-----+-------+--------+------------+-----+----------+------------+-----+------+-----------+\n",
            "only showing top 20 rows\n",
            "\n"
          ]
        }
      ]
    },
    {
      "cell_type": "code",
      "source": [
        "from pyspark.sql.functions import rand, expr\n",
        "from pyspark.sql.functions import current_timestamp\n",
        "\n",
        "df_augmented = df_cleaned \\\n",
        "    .withColumn(\"user_id\", (rand()*1000).cast(\"int\")) \\\n",
        "    .withColumn(\"quantity\", (rand()*5 + 1).cast(\"int\")) \\\n",
        "    .withColumn(\"timestamp\", expr(\"current_timestamp()\")) \\\n",
        "    .withColumn(\"payment_method\", expr(\"CASE WHEN rand() < 0.3 THEN 'Card' WHEN rand() < 0.6 THEN 'Cash' ELSE 'UPI' END\")) \\\n",
        "    .withColumn(\"location\", expr(\"CASE WHEN rand() < 0.5 THEN 'Mumbai' ELSE 'Bangalore' END\"))\n",
        "\n",
        "df_augmented.show(5)"
      ],
      "metadata": {
        "colab": {
          "base_uri": "https://localhost:8080/"
        },
        "id": "M7oVtkeR0up8",
        "outputId": "a4083726-fb32-403f-a76a-3077e213de62"
      },
      "execution_count": 22,
      "outputs": [
        {
          "output_type": "stream",
          "name": "stdout",
          "text": [
            "+-----+--------------------+--------------------+--------------------+-----------------+----------+------------+--------------------+------+--------------------+-------+--------+--------------------+--------------+---------+\n",
            "|index|             product|            category|        sub_category|            brand|sale_price|market_price|                type|rating|         description|user_id|quantity|           timestamp|payment_method| location|\n",
            "+-----+--------------------+--------------------+--------------------+-----------------+----------+------------+--------------------+------+--------------------+-------+--------+--------------------+--------------+---------+\n",
            "|    1|Garlic Oil - Vege...|    Beauty & Hygiene|           Hair Care|Sri Sri Ayurveda |       220|         220|    Hair Oil & Serum|   4.1|This Product cont...|    831|       3|2025-08-07 09:28:...|          Card|   Mumbai|\n",
            "|    2|Water Bottle - Or...|Kitchen, Garden &...|Storage & Accesso...|       Mastercook|       180|         180|Water & Fridge Bo...|   2.3|Each product is m...|    663|       1|2025-08-07 09:28:...|          Card|Bangalore|\n",
            "|    3|Brass Angle Deep ...|Cleaning & Household|         Pooja Needs|              Trm|       119|         250|     Lamp & Lamp Oil|   3.4|A perfect gift fo...|    201|       2|2025-08-07 09:28:...|          Cash|   Mumbai|\n",
            "|    4|Cereal Flip Lid C...|Cleaning & Household|Bins & Bathroom Ware|           Nakoda|       149|         176|Laundry, Storage ...|   3.7|Multipurpose cont...|    892|       2|2025-08-07 09:28:...|          Cash|   Mumbai|\n",
            "|    5|Creme Soft Soap -...|    Beauty & Hygiene|    Bath & Hand Wash|            Nivea|       162|         162|Bathing Bars & Soaps|   4.4|Nivea Creme Soft ...|    955|       5|2025-08-07 09:28:...|          Cash|   Mumbai|\n",
            "+-----+--------------------+--------------------+--------------------+-----------------+----------+------------+--------------------+------+--------------------+-------+--------+--------------------+--------------+---------+\n",
            "only showing top 5 rows\n",
            "\n"
          ]
        }
      ]
    },
    {
      "cell_type": "code",
      "source": [
        "from pyspark.sql.functions import sum\n",
        "\n",
        "df_augmented = df_augmented.withColumn(\"revenue\", col(\"sale_price\") * col(\"quantity\"))\n",
        "df_augmented.agg(sum(\"revenue\")).show()\n",
        "\n",
        "df_augmented.show(5)"
      ],
      "metadata": {
        "colab": {
          "base_uri": "https://localhost:8080/"
        },
        "id": "mK3RbLOJ0uVb",
        "outputId": "78b5ea10-6de7-48a5-efa4-d3f93d9e30ce"
      },
      "execution_count": 28,
      "outputs": [
        {
          "output_type": "stream",
          "name": "stdout",
          "text": [
            "+--------------------+\n",
            "|        sum(revenue)|\n",
            "+--------------------+\n",
            "|1.5082174110000005E7|\n",
            "+--------------------+\n",
            "\n",
            "+-----+--------------------+--------------------+--------------------+-----------------+----------+------------+--------------------+------+--------------------+-------+--------+--------------------+--------------+---------+-------+\n",
            "|index|             product|            category|        sub_category|            brand|sale_price|market_price|                type|rating|         description|user_id|quantity|           timestamp|payment_method| location|revenue|\n",
            "+-----+--------------------+--------------------+--------------------+-----------------+----------+------------+--------------------+------+--------------------+-------+--------+--------------------+--------------+---------+-------+\n",
            "|    1|Garlic Oil - Vege...|    Beauty & Hygiene|           Hair Care|Sri Sri Ayurveda |       220|         220|    Hair Oil & Serum|   4.1|This Product cont...|    831|       3|2025-08-07 09:40:...|          Card|   Mumbai|  660.0|\n",
            "|    2|Water Bottle - Or...|Kitchen, Garden &...|Storage & Accesso...|       Mastercook|       180|         180|Water & Fridge Bo...|   2.3|Each product is m...|    663|       1|2025-08-07 09:40:...|          Card|Bangalore|  180.0|\n",
            "|    3|Brass Angle Deep ...|Cleaning & Household|         Pooja Needs|              Trm|       119|         250|     Lamp & Lamp Oil|   3.4|A perfect gift fo...|    201|       2|2025-08-07 09:40:...|          Cash|   Mumbai|  238.0|\n",
            "|    4|Cereal Flip Lid C...|Cleaning & Household|Bins & Bathroom Ware|           Nakoda|       149|         176|Laundry, Storage ...|   3.7|Multipurpose cont...|    892|       2|2025-08-07 09:40:...|          Cash|   Mumbai|  298.0|\n",
            "|    5|Creme Soft Soap -...|    Beauty & Hygiene|    Bath & Hand Wash|            Nivea|       162|         162|Bathing Bars & Soaps|   4.4|Nivea Creme Soft ...|    955|       5|2025-08-07 09:40:...|          Cash|   Mumbai|  810.0|\n",
            "+-----+--------------------+--------------------+--------------------+-----------------+----------+------------+--------------------+------+--------------------+-------+--------+--------------------+--------------+---------+-------+\n",
            "only showing top 5 rows\n",
            "\n"
          ]
        }
      ]
    },
    {
      "cell_type": "code",
      "source": [
        "from pyspark.sql.functions import count\n",
        "\n",
        "df_augmented.groupBy(\"product\").agg(count(\"*\").alias(\"purchase_count\")) \\\n",
        "    .orderBy(\"purchase_count\", ascending=False).show()\n",
        "\n",
        "df_augmented.show(5)"
      ],
      "metadata": {
        "colab": {
          "base_uri": "https://localhost:8080/"
        },
        "id": "1QjGbrBc4wyc",
        "outputId": "d7f23812-840e-487a-8bd4-fc2a7e53bc12"
      },
      "execution_count": 26,
      "outputs": [
        {
          "output_type": "stream",
          "name": "stdout",
          "text": [
            "+--------------------+--------------+\n",
            "|             product|purchase_count|\n",
            "+--------------------+--------------+\n",
            "|Turmeric Powder/A...|            23|\n",
            "|          Soft Drink|            12|\n",
            "|      Cow Ghee/Tuppa|            11|\n",
            "|          Ghee/Tuppa|            11|\n",
            "|Colorsilk Hair Co...|            10|\n",
            "|  Powder - Coriander|            10|\n",
            "|Casting Creme Glo...|            10|\n",
            "|    Masala - Chicken|             9|\n",
            "|      Hand Sanitizer|             9|\n",
            "|Extra Virgin Oliv...|             9|\n",
            "|Anti Dandruff Sha...|             9|\n",
            "|                 Tea|             8|\n",
            "|Excellence Creme ...|             8|\n",
            "|  Olive Oil - Pomace|             8|\n",
            "|    Coriander Powder|             8|\n",
            "|Peanut Butter - C...|             8|\n",
            "|Color Naturals - ...|             8|\n",
            "|Extra Light Olive...|             8|\n",
            "|          phosphorus|             7|\n",
            "|Pantry/Cookie/Sna...|             7|\n",
            "+--------------------+--------------+\n",
            "only showing top 20 rows\n",
            "\n",
            "+-----+--------------------+--------------------+--------------------+-----------------+----------+------------+--------------------+------+--------------------+-------+--------+--------------------+--------------+---------+-------+\n",
            "|index|             product|            category|        sub_category|            brand|sale_price|market_price|                type|rating|         description|user_id|quantity|           timestamp|payment_method| location|revenue|\n",
            "+-----+--------------------+--------------------+--------------------+-----------------+----------+------------+--------------------+------+--------------------+-------+--------+--------------------+--------------+---------+-------+\n",
            "|    1|Garlic Oil - Vege...|    Beauty & Hygiene|           Hair Care|Sri Sri Ayurveda |       220|         220|    Hair Oil & Serum|   4.1|This Product cont...|    831|       3|2025-08-07 09:39:...|          Card|   Mumbai|  660.0|\n",
            "|    2|Water Bottle - Or...|Kitchen, Garden &...|Storage & Accesso...|       Mastercook|       180|         180|Water & Fridge Bo...|   2.3|Each product is m...|    663|       1|2025-08-07 09:39:...|          Card|Bangalore|  180.0|\n",
            "|    3|Brass Angle Deep ...|Cleaning & Household|         Pooja Needs|              Trm|       119|         250|     Lamp & Lamp Oil|   3.4|A perfect gift fo...|    201|       2|2025-08-07 09:39:...|          Cash|   Mumbai|  238.0|\n",
            "|    4|Cereal Flip Lid C...|Cleaning & Household|Bins & Bathroom Ware|           Nakoda|       149|         176|Laundry, Storage ...|   3.7|Multipurpose cont...|    892|       2|2025-08-07 09:39:...|          Cash|   Mumbai|  298.0|\n",
            "|    5|Creme Soft Soap -...|    Beauty & Hygiene|    Bath & Hand Wash|            Nivea|       162|         162|Bathing Bars & Soaps|   4.4|Nivea Creme Soft ...|    955|       5|2025-08-07 09:39:...|          Cash|   Mumbai|  810.0|\n",
            "+-----+--------------------+--------------------+--------------------+-----------------+----------+------------+--------------------+------+--------------------+-------+--------+--------------------+--------------+---------+-------+\n",
            "only showing top 5 rows\n",
            "\n"
          ]
        }
      ]
    },
    {
      "cell_type": "code",
      "source": [
        "from pyspark.sql.functions import hour\n",
        "\n",
        "df_augmented.withColumn(\"hour\", hour(\"timestamp\")).groupBy(\"hour\").count().show()"
      ],
      "metadata": {
        "colab": {
          "base_uri": "https://localhost:8080/"
        },
        "id": "h63cFX2_48X7",
        "outputId": "88879198-86db-4ec0-ff60-cba0ed3dbcee"
      },
      "execution_count": 29,
      "outputs": [
        {
          "output_type": "stream",
          "name": "stdout",
          "text": [
            "+----+-----+\n",
            "|hour|count|\n",
            "+----+-----+\n",
            "|   9|19044|\n",
            "+----+-----+\n",
            "\n"
          ]
        }
      ]
    },
    {
      "cell_type": "code",
      "source": [
        "df_augmented.groupBy(\"location\").agg(sum(\"revenue\").alias(\"total_revenue\")) \\\n",
        "    .orderBy(\"total_revenue\", ascending=False).show()\n"
      ],
      "metadata": {
        "colab": {
          "base_uri": "https://localhost:8080/"
        },
        "id": "-yziRzUB6YDF",
        "outputId": "67881e8d-3283-4d97-ce70-9cb2199c6917"
      },
      "execution_count": 30,
      "outputs": [
        {
          "output_type": "stream",
          "name": "stdout",
          "text": [
            "+---------+-----------------+\n",
            "| location|    total_revenue|\n",
            "+---------+-----------------+\n",
            "|Bangalore|7591308.260000002|\n",
            "|   Mumbai|7490865.850000004|\n",
            "+---------+-----------------+\n",
            "\n"
          ]
        }
      ]
    },
    {
      "cell_type": "code",
      "source": [
        "customer_df = df_augmented.groupBy(\"user_id\").agg(\n",
        "    sum(\"revenue\").alias(\"total_spent\"),\n",
        "    count(\"product\").alias(\"frequency\"),\n",
        "    (sum(\"revenue\") / count(\"product\")).alias(\"avg_basket_size\")\n",
        ")\n",
        "customer_df.show()"
      ],
      "metadata": {
        "colab": {
          "base_uri": "https://localhost:8080/"
        },
        "id": "npxKMdbg61H-",
        "outputId": "176b6acb-23fa-49c8-ee0b-4553b0aba1c9"
      },
      "execution_count": 31,
      "outputs": [
        {
          "output_type": "stream",
          "name": "stdout",
          "text": [
            "+-------+------------------+---------+------------------+\n",
            "|user_id|       total_spent|frequency|   avg_basket_size|\n",
            "+-------+------------------+---------+------------------+\n",
            "|    496|          25787.46|       19|1357.2347368421051|\n",
            "|    471|          17091.75|       23| 743.1195652173913|\n",
            "|    148|           19232.0|       22| 874.1818181818181|\n",
            "|    833|           13305.1|       15| 887.0066666666667|\n",
            "|    463|11852.189999999999|       17| 697.1876470588235|\n",
            "|    858|          25007.64|       20|          1250.382|\n",
            "|    623|          14693.55|       19| 773.3447368421052|\n",
            "|    897|          17937.73|       20|          896.8865|\n",
            "|    243|14067.009999999998|       19|  740.368947368421|\n",
            "|    540|          19906.46|       15|1327.0973333333334|\n",
            "|    392|           9580.24|       20|           479.012|\n",
            "|    737|           7241.65|       14| 517.2607142857142|\n",
            "|    516|           11271.0|       22| 512.3181818181819|\n",
            "|     31|          13808.92|       15| 920.5946666666666|\n",
            "|    580|           18296.3|       17|1076.2529411764706|\n",
            "|    451|           19715.4|       19|1037.6526315789474|\n",
            "|     85|           20038.0|       22| 910.8181818181819|\n",
            "|    808|          10348.76|       22|470.39818181818185|\n",
            "|    137|           17614.3|       16|        1100.89375|\n",
            "|    251|          10738.02|       19| 565.1589473684211|\n",
            "+-------+------------------+---------+------------------+\n",
            "only showing top 20 rows\n",
            "\n"
          ]
        }
      ]
    },
    {
      "cell_type": "code",
      "source": [],
      "metadata": {
        "id": "J3abdc6U7mjH"
      },
      "execution_count": null,
      "outputs": []
    }
  ]
}